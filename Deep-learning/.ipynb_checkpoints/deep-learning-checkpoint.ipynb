{
 "cells": [
  {
   "cell_type": "markdown",
   "metadata": {},
   "source": [
    "# Deep Learning with Keras and Tensorflow\n",
    "- Deep learning is a branch of machine learning which uses neural networks to produce predictive models\n",
    "- The goal is not to create realistic models of the brain, but instead to develop robust algorithms and data structures that we can use to model difficult problems\n",
    "- Applications: Robotics, medical imaging, computer vision, weather prediction, stock market, natural language processing, bioinformatics\n"
   ]
  },
  {
   "cell_type": "markdown",
   "metadata": {},
   "source": [
    "\n",
    "## Neural Networks\n",
    "\n",
    "### Perceptrons\n",
    "- Neural networks are made up of \"neurons\" or perceptrons\n",
    "- Each perceptron has:\n",
    "    - Inputs from the previous layer\n",
    "    - Weights\n",
    "    - An activation function\n",
    "    \n",
    "<img src=\"images/perceptron.jpeg\">\n",
    "\n",
    "### Input or Visible layers\n",
    "- The bottom layer that takes input from the dataset is called the \"visible layer.\" \n",
    "- Typically you want to use one neuron per input value\n",
    "\n",
    "### Hidden Layers\n",
    "- Layers after the input layer are calle hidden layers because they are not directly exposed to the input\n",
    "- Given increases in computing power and efficient libraries, very deep neural networks can be constructed\n",
    "\n",
    "### Output Layer\n",
    "- The final hidden layer is called the output layer\n",
    "- The output layer is responsible for outputtting a value or a vector of values\n",
    "- The number of nodes in the output layer and the activation function used depends on what type of problem you are solving\n",
    "    - A regression problem may have a single output neuron and no activation function\n",
    "    - A binary classification problem may have one output neuron and use a sigmoid activation function\n",
    "    - A multilcass classification problem may have multiple neurons in the output layer. One for each class. a softmax function might be useful here to provide you with a probability that the output belongs in each of the classes\n",
    "    \n",
    "<img src=\"images/neural-networks-layers.jpg\">\n",
    "\n",
    "## Demo - Tensorflow playground\n",
    "- www.playground.tensorflow.org/\n",
    "\n",
    "# Tensorflow\n",
    "- TensorFlow™ is an open source software library for numerical computation using data flow graphs\n",
    "-  TensorFlow was originally developed by researchers and engineers working on the Google Brain Team within Google's Machine Intelligence research organization for the purposes of conducting machine learning and deep neural networks research, but the system is general enough to be applicable in a wide variety of other domains as well.\n",
    "- Computationally efficient and can leverage your GPU but it is not very user friendly\n",
    "\n",
    "\n",
    "# Keras\n",
    "- Keras is a high-level neural networks library, written in Python and capable of running on top of either TensorFlow or Theano\n",
    "- It was developed with a focus on enabling fast experimentation. Being able to go from idea to result with the least possible delay is key to doing good research.\n",
    "- Integrates nicely with sklearn\n",
    "\n",
    "# Resources\n",
    "- https://www.udacity.com/course/deep-learning--ud730\n",
    "- http://machinelearningmastery.com/\n",
    "- http://www.pyimagesearch.com/\n",
    "\n",
    "# Installation:\n",
    "OSX/Linux: \n",
    "http://www.pyimagesearch.com/2016/11/14/installing-keras-with-tensorflow-backend/\n",
    "\n",
    "Windows:\n",
    "http://ankivil.com/installing-keras-theano-and-dependencies-on-windows-10/\n",
    "\n",
    "# Coding Demo\n"
   ]
  },
  {
   "cell_type": "code",
   "execution_count": 1,
   "metadata": {
    "collapsed": false
   },
   "outputs": [
    {
     "name": "stderr",
     "output_type": "stream",
     "text": [
      "Using TensorFlow backend.\n"
     ]
    }
   ],
   "source": [
    "from sklearn.datasets import load_iris\n",
    "import pandas as pd\n",
    "import numpy as np\n",
    "from keras.models import Sequential\n",
    "from keras.layers import Dense\n",
    "from keras.wrappers.scikit_learn import KerasClassifier\n",
    "from keras.utils import np_utils\n",
    "from sklearn.model_selection import cross_val_score\n",
    "from sklearn.model_selection import KFold\n",
    "from sklearn.preprocessing import LabelEncoder\n",
    "from sklearn.pipeline import Pipeline"
   ]
  },
  {
   "cell_type": "code",
   "execution_count": 10,
   "metadata": {
    "collapsed": false
   },
   "outputs": [],
   "source": [
    "# load the dataset\n",
    "dataset = load_iris()\n",
    "X = np.array(dataset.data)\n",
    "Y = np.array(dataset.target)\n",
    "Y = np_utils.to_categorical(Y)"
   ]
  },
  {
   "cell_type": "code",
   "execution_count": 11,
   "metadata": {
    "collapsed": true
   },
   "outputs": [],
   "source": [
    "# Build our model\n",
    "model = Sequential()"
   ]
  },
  {
   "cell_type": "code",
   "execution_count": 12,
   "metadata": {
    "collapsed": true
   },
   "outputs": [],
   "source": [
    "# Add layers\n",
    "# Start with the input layer\n",
    "model.add(Dense(4, input_dim=4, init='normal', activation='relu'))\n",
    "\n",
    "# First hidden layer\n",
    "model.add(Dense(4, init='normal', activation='relu'))\n",
    "# 2nd hidden layer (output)\n",
    "model.add(Dense(3, init='normal', activation='sigmoid'))\n"
   ]
  },
  {
   "cell_type": "code",
   "execution_count": 13,
   "metadata": {
    "collapsed": true
   },
   "outputs": [],
   "source": [
    "# Compile our model\n",
    "model.compile(loss='binary_crossentropy', optimizer='adam', metrics=['accuracy'])"
   ]
  },
  {
   "cell_type": "code",
   "execution_count": 14,
   "metadata": {
    "collapsed": false
   },
   "outputs": [
    {
     "name": "stdout",
     "output_type": "stream",
     "text": [
      "Epoch 1/50\n",
      "150/150 [==============================] - 0s - loss: 0.6922 - acc: 0.6556     \n",
      "Epoch 2/50\n",
      "150/150 [==============================] - 0s - loss: 0.6896 - acc: 0.6667     \n",
      "Epoch 3/50\n",
      "150/150 [==============================] - 0s - loss: 0.6863 - acc: 0.6667     \n",
      "Epoch 4/50\n",
      "150/150 [==============================] - 0s - loss: 0.6820 - acc: 0.6667     \n",
      "Epoch 5/50\n",
      "150/150 [==============================] - 0s - loss: 0.6765 - acc: 0.6667     \n",
      "Epoch 6/50\n",
      "150/150 [==============================] - 0s - loss: 0.6694 - acc: 0.6667     \n",
      "Epoch 7/50\n",
      "150/150 [==============================] - 0s - loss: 0.6612 - acc: 0.6667     \n",
      "Epoch 8/50\n",
      "150/150 [==============================] - 0s - loss: 0.6525 - acc: 0.6667     \n",
      "Epoch 9/50\n",
      "150/150 [==============================] - 0s - loss: 0.6445 - acc: 0.6667     \n",
      "Epoch 10/50\n",
      "150/150 [==============================] - 0s - loss: 0.6387 - acc: 0.6667     \n",
      "Epoch 11/50\n",
      "150/150 [==============================] - 0s - loss: 0.6346 - acc: 0.6667     \n",
      "Epoch 12/50\n",
      "150/150 [==============================] - 0s - loss: 0.6327 - acc: 0.6667     \n",
      "Epoch 13/50\n",
      "150/150 [==============================] - 0s - loss: 0.6314 - acc: 0.6667     \n",
      "Epoch 14/50\n",
      "150/150 [==============================] - 0s - loss: 0.6304 - acc: 0.6667     \n",
      "Epoch 15/50\n",
      "150/150 [==============================] - 0s - loss: 0.6301 - acc: 0.6667     \n",
      "Epoch 16/50\n",
      "150/150 [==============================] - 0s - loss: 0.6290 - acc: 0.6667     \n",
      "Epoch 17/50\n",
      "150/150 [==============================] - 0s - loss: 0.6281 - acc: 0.6667     \n",
      "Epoch 18/50\n",
      "150/150 [==============================] - 0s - loss: 0.6275 - acc: 0.6667     \n",
      "Epoch 19/50\n",
      "150/150 [==============================] - 0s - loss: 0.6263 - acc: 0.6667     \n",
      "Epoch 20/50\n",
      "150/150 [==============================] - 0s - loss: 0.6253 - acc: 0.6667     \n",
      "Epoch 21/50\n",
      "150/150 [==============================] - 0s - loss: 0.6241 - acc: 0.6667     \n",
      "Epoch 22/50\n",
      "150/150 [==============================] - 0s - loss: 0.6230 - acc: 0.6667     \n",
      "Epoch 23/50\n",
      "150/150 [==============================] - 0s - loss: 0.6219 - acc: 0.6667     \n",
      "Epoch 24/50\n",
      "150/150 [==============================] - 0s - loss: 0.6201 - acc: 0.6667     \n",
      "Epoch 25/50\n",
      "150/150 [==============================] - 0s - loss: 0.6186 - acc: 0.6667     \n",
      "Epoch 26/50\n",
      "150/150 [==============================] - 0s - loss: 0.6168 - acc: 0.6667     \n",
      "Epoch 27/50\n",
      "150/150 [==============================] - 0s - loss: 0.6149 - acc: 0.6667     \n",
      "Epoch 28/50\n",
      "150/150 [==============================] - 0s - loss: 0.6129 - acc: 0.6667     \n",
      "Epoch 29/50\n",
      "150/150 [==============================] - 0s - loss: 0.6106 - acc: 0.6667     \n",
      "Epoch 30/50\n",
      "150/150 [==============================] - 0s - loss: 0.6082 - acc: 0.6667     \n",
      "Epoch 31/50\n",
      "150/150 [==============================] - 0s - loss: 0.6053 - acc: 0.6667     \n",
      "Epoch 32/50\n",
      "150/150 [==============================] - 0s - loss: 0.6023 - acc: 0.6667     \n",
      "Epoch 33/50\n",
      "150/150 [==============================] - 0s - loss: 0.5990 - acc: 0.6667     \n",
      "Epoch 34/50\n",
      "150/150 [==============================] - 0s - loss: 0.5955 - acc: 0.6667     \n",
      "Epoch 35/50\n",
      "150/150 [==============================] - 0s - loss: 0.5917 - acc: 0.6667     \n",
      "Epoch 36/50\n",
      "150/150 [==============================] - 0s - loss: 0.5872 - acc: 0.6667     \n",
      "Epoch 37/50\n",
      "150/150 [==============================] - 0s - loss: 0.5824 - acc: 0.6667     \n",
      "Epoch 38/50\n",
      "150/150 [==============================] - 0s - loss: 0.5771 - acc: 0.6667     \n",
      "Epoch 39/50\n",
      "150/150 [==============================] - 0s - loss: 0.5714 - acc: 0.6667     \n",
      "Epoch 40/50\n",
      "150/150 [==============================] - 0s - loss: 0.5649 - acc: 0.6667     \n",
      "Epoch 41/50\n",
      "150/150 [==============================] - 0s - loss: 0.5578 - acc: 0.6689     \n",
      "Epoch 42/50\n",
      "150/150 [==============================] - 0s - loss: 0.5501 - acc: 0.6800     \n",
      "Epoch 43/50\n",
      "150/150 [==============================] - 0s - loss: 0.5422 - acc: 0.7244     \n",
      "Epoch 44/50\n",
      "150/150 [==============================] - 0s - loss: 0.5349 - acc: 0.7911     \n",
      "Epoch 45/50\n",
      "150/150 [==============================] - 0s - loss: 0.5281 - acc: 0.8533     \n",
      "Epoch 46/50\n",
      "150/150 [==============================] - 0s - loss: 0.5218 - acc: 0.8533     \n",
      "Epoch 47/50\n",
      "150/150 [==============================] - 0s - loss: 0.5164 - acc: 0.8267     \n",
      "Epoch 48/50\n",
      "150/150 [==============================] - 0s - loss: 0.5117 - acc: 0.8044     \n",
      "Epoch 49/50\n",
      "150/150 [==============================] - 0s - loss: 0.5077 - acc: 0.7956     \n",
      "Epoch 50/50\n",
      "150/150 [==============================] - 0s - loss: 0.5035 - acc: 0.7889     \n"
     ]
    },
    {
     "data": {
      "text/plain": [
       "<keras.callbacks.History at 0x11926cdd0>"
      ]
     },
     "execution_count": 14,
     "metadata": {},
     "output_type": "execute_result"
    }
   ],
   "source": [
    "# Fit the model\n",
    "model.fit(X, Y, nb_epoch=50, batch_size=10)"
   ]
  },
  {
   "cell_type": "code",
   "execution_count": 27,
   "metadata": {
    "collapsed": false
   },
   "outputs": [
    {
     "name": "stdout",
     "output_type": "stream",
     "text": [
      " 32/150 [=====>........................] - ETA: 0sacc: 78.67%\n"
     ]
    }
   ],
   "source": [
    "scores = model.evaluate(X, Y)\n",
    "print '%s: %.2f%%' %(model.metrics_names[1], scores[1]*100)"
   ]
  },
  {
   "cell_type": "markdown",
   "metadata": {},
   "source": [
    "# Automating and integrating sklearn"
   ]
  },
  {
   "cell_type": "code",
   "execution_count": 20,
   "metadata": {
    "collapsed": true
   },
   "outputs": [],
   "source": [
    "# Define function for creating our model\n",
    "def baseline_model():\n",
    "    # Create the model\n",
    "    model = Sequential()\n",
    "    model.add(Dense(4, input_dim=4, init='normal', activation='relu'))\n",
    "    model.add(Dense(4, init='normal', activation='relu'))\n",
    "    model.add(Dense(3, init='normal', activation='sigmoid'))\n",
    "    \n",
    "    # Compile model\n",
    "    model.compile(loss='categorical_crossentropy', optimizer='adam', metrics=['accuracy'])\n",
    "    return model"
   ]
  },
  {
   "cell_type": "code",
   "execution_count": 23,
   "metadata": {
    "collapsed": true
   },
   "outputs": [],
   "source": [
    "# Build the neural network using the function we created and keras classifier class\n",
    "estimator = KerasClassifier(build_fn=baseline_model, nb_epoch=50, batch_size=10, verbose=0)"
   ]
  },
  {
   "cell_type": "code",
   "execution_count": 24,
   "metadata": {
    "collapsed": true
   },
   "outputs": [],
   "source": [
    "# K fold cross validation\n",
    "seed = 7\n",
    "kfold = KFold(n_splits=10, shuffle=True, random_state=seed)\n",
    "results = cross_val_score(estimator, X, Y, cv=kfold)"
   ]
  },
  {
   "cell_type": "code",
   "execution_count": 28,
   "metadata": {
    "collapsed": false
   },
   "outputs": [
    {
     "name": "stdout",
     "output_type": "stream",
     "text": [
      "Accuracy 62.67\n"
     ]
    }
   ],
   "source": [
    "print 'Accuracy %.2f' %(results.mean()*100)"
   ]
  },
  {
   "cell_type": "markdown",
   "metadata": {},
   "source": [
    "# Visualizing the accuracy"
   ]
  },
  {
   "cell_type": "code",
   "execution_count": null,
   "metadata": {
    "collapsed": true
   },
   "outputs": [],
   "source": [
    "# Fit the model to the data\n",
    "model = estimator.fit(X, Y)"
   ]
  },
  {
   "cell_type": "code",
   "execution_count": 31,
   "metadata": {
    "collapsed": false
   },
   "outputs": [
    {
     "name": "stdout",
     "output_type": "stream",
     "text": [
      "The final model accuracy:  0.666666671634\n"
     ]
    },
    {
     "data": {
      "image/png": "[encoded data removed]",
      "text/plain": [
       "<matplotlib.figure.Figure at 0x11deae5d0>"
      ]
     },
     "metadata": {},
     "output_type": "display_data"
    }
   ],
   "source": [
    "import matplotlib.pyplot as plt\n",
    "%matplotlib inline\n",
    "model.history.keys()\n",
    "plt.plot(model.history['acc'])\n",
    "plt.title('Model Accuracy (Training)')\n",
    "print 'The final model accuracy: ', model.history['acc'][-1]"
   ]
  },
  {
   "cell_type": "code",
   "execution_count": null,
   "metadata": {
    "collapsed": true
   },
   "outputs": [],
   "source": []
  }
 ],
 "metadata": {
  "kernelspec": {
   "display_name": "Python 2",
   "language": "python",
   "name": "python2"
  },
  "language_info": {
   "codemirror_mode": {
    "name": "ipython",
    "version": 2
   },
   "file_extension": ".py",
   "mimetype": "text/x-python",
   "name": "python",
   "nbconvert_exporter": "python",
   "pygments_lexer": "ipython2",
   "version": "2.7.12"
  }
 },
 "nbformat": 4,
 "nbformat_minor": 1
}
