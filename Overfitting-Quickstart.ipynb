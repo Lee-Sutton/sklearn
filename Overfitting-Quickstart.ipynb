{
 "cells": [
  {
   "cell_type": "markdown",
   "metadata": {},
   "source": [
    "# Overfitting Demo\n",
    "## Purpose\n",
    "Illustrate the issues of overfitting a model and how this can affect our training and test accuracy.\n",
    "\n",
    "## References\n",
    "Note that details from this lesson come from the following source. Recommended reading if you want to learn more!\n",
    "\n",
    "http://scikit-learn.org/stable/auto_examples/model_selection/plot_underfitting_overfitting.html\n"
   ]
  },
  {
   "cell_type": "markdown",
   "metadata": {},
   "source": [
    "# Comments from Lee\n",
    "The notebook is super clear. I think we should have no problem going through this. One thing that might be nice though is if we could supply a starter notebook that contains the following:\n",
    "- Initializing the libraries\n",
    "- Initializing the data and true functions\n",
    "- Initializing X_test\n",
    "\n",
    "Also a note about this line of code:\n",
    "\n",
    "    pipeline.fit(X[:, np.newaxis],y)\n",
    "\n",
    "I have been using \n",
    "\n",
    "    X.reshape(30,1)\n",
    "\n",
    "I both methods work fine but I think we should try to be consistent in the lesson. I am fine with using either. \n",
    "\n",
    "We may also want to show the training scores, cross validation scores, and test scores after each regression to show why test data is so important. "
   ]
  },
  {
   "cell_type": "code",
   "execution_count": 228,
   "metadata": {
    "collapsed": false
   },
   "outputs": [],
   "source": [
    "# Initialize all our libraries\n",
    "\n",
    "%matplotlib inline\n",
    "import matplotlib # I dont think this import is necessary\n",
    "import numpy as np\n",
    "import matplotlib.pyplot as plt\n",
    "from sklearn.pipeline import Pipeline\n",
    "from sklearn.preprocessing import PolynomialFeatures\n",
    "from sklearn.linear_model import LinearRegression\n",
    "from sklearn import preprocessing\n",
    "\n",
    "# Cross validation\n",
    "# from sklearn.model_selection import cross_val_score\n",
    "# If you have issues with sklearn.model_selection, use the line below instead\n",
    "from sklearn.cross_validation import cross_val_score\n",
    "# Import some random, but deterministic data\n",
    "np.random.seed(2)\n",
    "\n",
    "# Define number of samples we take\n",
    "n_samples = 20\n",
    "degrees = [1, 4, 15]\n",
    "\n",
    "# Create a function which generates our cos function data\n",
    "true_fun = lambda X: np.cos(5 * np.pi * X)\n",
    "\n",
    "# Setup our x data from the random generator\n",
    "X = np.sort(np.random.rand(n_samples))\n",
    "\n",
    "# The true data that we check the model against. Note that we will add some random noise as well to keep things interesting\n",
    "y = true_fun(X) + np.random.randn(n_samples) * 0.1\n",
    "\n",
    "# Let's check the size of our data\n",
    "print X.shape\n",
    "print y.shape\n",
    "\n",
    "# We notice that X and y don't appear like regular arrays. Python seems OK with this in general, \n",
    "# but we start to hit issues when we want to treat these objects like regular arrays\n",
    "\n",
    "X = np.reshape(X,(len(X),1))\n",
    "y = np.reshape(y,(len(y),1))\n",
    "\n",
    "# Check our shapes again to check\n",
    "print X.shape,  y.shape\n",
    "# Excellent!\n",
    "\n",
    "# Let's cut our data into a training set and a testing set. Grab the last 10 points as test data. The rest is training data\n",
    "slice = 10\n",
    "\n",
    "x_test = X[-slice:]\n",
    "y_test = y[-slice:]\n",
    "\n",
    "# Cut X and y down to make the training data\n",
    "X = X[:len(X)-slice]\n",
    "y = y[:len(y)-slice]\n"
   ]
  }
 ],
 "metadata": {
  "kernelspec": {
   "display_name": "Python [Root]",
   "language": "python",
   "name": "Python [Root]"
  },
  "language_info": {
   "codemirror_mode": {
    "name": "ipython",
    "version": 2
   },
   "file_extension": ".py",
   "mimetype": "text/x-python",
   "name": "python",
   "nbconvert_exporter": "python",
   "pygments_lexer": "ipython2",
   "version": "2.7.12"
  }
 },
 "nbformat": 4,
 "nbformat_minor": 0
}
